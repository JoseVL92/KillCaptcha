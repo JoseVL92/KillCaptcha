{
  "nbformat": 4,
  "nbformat_minor": 0,
  "metadata": {
    "colab": {
      "name": "Darknet_YOLOv4.ipynb",
      "provenance": [],
      "mount_file_id": "1gnZPOEIWPNYG6pteGSjXk6R9-r5swFuU",
      "authorship_tag": "ABX9TyNugOCchtM3h6JWKMmcQ91L",
      "include_colab_link": true
    },
    "kernelspec": {
      "name": "python3",
      "display_name": "Python 3"
    },
    "accelerator": "GPU"
  },
  "cells": [
    {
      "cell_type": "markdown",
      "metadata": {
        "id": "view-in-github",
        "colab_type": "text"
      },
      "source": [
        "<a href=\"https://colab.research.google.com/github/JoseVL92/KillCaptcha/blob/main/Darknet_YOLOv4.ipynb\" target=\"_parent\"><img src=\"https://colab.research.google.com/assets/colab-badge.svg\" alt=\"Open In Colab\"/></a>"
      ]
    },
    {
      "cell_type": "code",
      "metadata": {
        "id": "xRCoIvnb6oyz"
      },
      "source": [
        "import numpy as np\n",
        "\n",
        "def square(x):\n",
        "  return x*x"
      ],
      "execution_count": 1,
      "outputs": []
    },
    {
      "cell_type": "code",
      "metadata": {
        "id": "cUd6hl457Zop",
        "outputId": "cf548678-dc8f-4d39-ddba-17290b7d9055",
        "colab": {
          "base_uri": "https://localhost:8080/",
          "height": 34
        }
      },
      "source": [
        "print(square(5))"
      ],
      "execution_count": 2,
      "outputs": [
        {
          "output_type": "stream",
          "text": [
            "25\n"
          ],
          "name": "stdout"
        }
      ]
    }
  ]
}